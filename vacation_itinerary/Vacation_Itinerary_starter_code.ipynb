{
 "cells": [
  {
   "cell_type": "markdown",
   "metadata": {},
   "source": [
    "## Deliverable 3. Create a Travel Itinerary Map."
   ]
  },
  {
   "cell_type": "code",
   "execution_count": 5,
   "metadata": {},
   "outputs": [],
   "source": [
    "# Dependencies and Setup\n",
    "import pandas as pd\n",
    "import requests\n",
    "import gmaps\n",
    "\n",
    "# Import API key\n",
    "from config import g_key\n",
    "\n",
    "# Configure gmaps\n",
    "gmaps.configure(api_key=g_key)"
   ]
  },
  {
   "cell_type": "code",
   "execution_count": 6,
   "metadata": {},
   "outputs": [
    {
     "data": {
      "text/html": [
       "<div>\n",
       "<style scoped>\n",
       "    .dataframe tbody tr th:only-of-type {\n",
       "        vertical-align: middle;\n",
       "    }\n",
       "\n",
       "    .dataframe tbody tr th {\n",
       "        vertical-align: top;\n",
       "    }\n",
       "\n",
       "    .dataframe thead th {\n",
       "        text-align: right;\n",
       "    }\n",
       "</style>\n",
       "<table border=\"1\" class=\"dataframe\">\n",
       "  <thead>\n",
       "    <tr style=\"text-align: right;\">\n",
       "      <th></th>\n",
       "      <th>City_ID</th>\n",
       "      <th>City</th>\n",
       "      <th>Country</th>\n",
       "      <th>Max Temp</th>\n",
       "      <th>Weather Description</th>\n",
       "      <th>Lat</th>\n",
       "      <th>Lng</th>\n",
       "      <th>Hotel Name</th>\n",
       "    </tr>\n",
       "  </thead>\n",
       "  <tbody>\n",
       "    <tr>\n",
       "      <th>0</th>\n",
       "      <td>4</td>\n",
       "      <td>Jamestown</td>\n",
       "      <td>US</td>\n",
       "      <td>81.99</td>\n",
       "      <td>clear sky</td>\n",
       "      <td>42.0970</td>\n",
       "      <td>-79.2353</td>\n",
       "      <td>Hampton Inn &amp; Suites Jamestown</td>\n",
       "    </tr>\n",
       "    <tr>\n",
       "      <th>1</th>\n",
       "      <td>5</td>\n",
       "      <td>Coruripe</td>\n",
       "      <td>BR</td>\n",
       "      <td>76.57</td>\n",
       "      <td>scattered clouds</td>\n",
       "      <td>-10.1256</td>\n",
       "      <td>-36.1756</td>\n",
       "      <td>Pousada e Hotel Litoral Sul</td>\n",
       "    </tr>\n",
       "    <tr>\n",
       "      <th>2</th>\n",
       "      <td>7</td>\n",
       "      <td>Praya</td>\n",
       "      <td>CV</td>\n",
       "      <td>77.54</td>\n",
       "      <td>light intensity drizzle</td>\n",
       "      <td>14.9215</td>\n",
       "      <td>-23.5087</td>\n",
       "      <td>LT Aparthotel</td>\n",
       "    </tr>\n",
       "    <tr>\n",
       "      <th>3</th>\n",
       "      <td>9</td>\n",
       "      <td>Rikitea</td>\n",
       "      <td>PF</td>\n",
       "      <td>73.38</td>\n",
       "      <td>scattered clouds</td>\n",
       "      <td>-23.1203</td>\n",
       "      <td>-134.9692</td>\n",
       "      <td>People ThankYou</td>\n",
       "    </tr>\n",
       "    <tr>\n",
       "      <th>4</th>\n",
       "      <td>11</td>\n",
       "      <td>Luena</td>\n",
       "      <td>AO</td>\n",
       "      <td>84.90</td>\n",
       "      <td>few clouds</td>\n",
       "      <td>-11.7833</td>\n",
       "      <td>19.9167</td>\n",
       "      <td>Hotel Kandamba</td>\n",
       "    </tr>\n",
       "  </tbody>\n",
       "</table>\n",
       "</div>"
      ],
      "text/plain": [
       "   City_ID       City Country  Max Temp      Weather Description      Lat  \\\n",
       "0        4  Jamestown      US     81.99                clear sky  42.0970   \n",
       "1        5   Coruripe      BR     76.57         scattered clouds -10.1256   \n",
       "2        7      Praya      CV     77.54  light intensity drizzle  14.9215   \n",
       "3        9    Rikitea      PF     73.38         scattered clouds -23.1203   \n",
       "4       11      Luena      AO     84.90               few clouds -11.7833   \n",
       "\n",
       "        Lng                      Hotel Name  \n",
       "0  -79.2353  Hampton Inn & Suites Jamestown  \n",
       "1  -36.1756     Pousada e Hotel Litoral Sul  \n",
       "2  -23.5087                   LT Aparthotel  \n",
       "3 -134.9692                 People ThankYou  \n",
       "4   19.9167                  Hotel Kandamba  "
      ]
     },
     "execution_count": 6,
     "metadata": {},
     "output_type": "execute_result"
    }
   ],
   "source": [
    "# 1. Read the WeatherPy_vacation.csv into a DataFrame.\n",
    "vacation_df = pd.read_csv(\"../vacation_search/weatherpy_vacation.csv\")\n",
    "vacation_df.head()"
   ]
  },
  {
   "cell_type": "code",
   "execution_count": 9,
   "metadata": {},
   "outputs": [],
   "source": [
    "# 2. Using the template add the city name, the country code, the weather description and maximum temperature for the city.\n",
    "info_box_template = \"\"\"<dl>\n",
    "<dt>City</dt><dd>{City}</dd>\n",
    "<dt>Country</dt><dd>{Country}</dd>\n",
    "<dt>Weather Description</dt><dd>{Weather Description}</dd>\n",
    "<dt>Max Temp</dt><dd>{Max Temp} °F</dd>\n",
    "</dl>\n",
    "\n",
    "\"\"\"\n",
    "\n",
    "# 3a. Get the data from each row and add it to the formatting template and store the data in a list.\n",
    "hotel_info = [info_box_template.format(**row) for index, row in vacation_df.iterrows()]\n",
    "\n",
    "# 3b. Get the latitude and longitude from each row and store in a new DataFrame.\n",
    "locations = vacation_df[[\"Lat\", \"Lng\"]]"
   ]
  },
  {
   "cell_type": "code",
   "execution_count": 12,
   "metadata": {},
   "outputs": [
    {
     "data": {
      "application/vnd.jupyter.widget-view+json": {
       "model_id": "adae33927cfc4c40a718ac098ebcb064",
       "version_major": 2,
       "version_minor": 0
      },
      "text/plain": [
       "Figure(layout=FigureLayout(height='420px'))"
      ]
     },
     "metadata": {},
     "output_type": "display_data"
    }
   ],
   "source": [
    "# 4a. Add a marker layer for each city to the map.\n",
    "fig = gmaps.figure(center=(30.0, 31.0), zoom_level=1.5)\n",
    "marker_layer = gmaps.marker_layer(locations, info_box_content=hotel_info)\n",
    "fig.add_layer(marker_layer)\n",
    "\n",
    "# 4b. Display the figure\n",
    "\n",
    "fig"
   ]
  },
  {
   "cell_type": "code",
   "execution_count": 16,
   "metadata": {},
   "outputs": [
    {
     "data": {
      "text/html": [
       "<div>\n",
       "<style scoped>\n",
       "    .dataframe tbody tr th:only-of-type {\n",
       "        vertical-align: middle;\n",
       "    }\n",
       "\n",
       "    .dataframe tbody tr th {\n",
       "        vertical-align: top;\n",
       "    }\n",
       "\n",
       "    .dataframe thead th {\n",
       "        text-align: right;\n",
       "    }\n",
       "</style>\n",
       "<table border=\"1\" class=\"dataframe\">\n",
       "  <thead>\n",
       "    <tr style=\"text-align: right;\">\n",
       "      <th></th>\n",
       "      <th>City_ID</th>\n",
       "      <th>City</th>\n",
       "      <th>Country</th>\n",
       "      <th>Max Temp</th>\n",
       "      <th>Weather Description</th>\n",
       "      <th>Lat</th>\n",
       "      <th>Lng</th>\n",
       "      <th>Hotel Name</th>\n",
       "    </tr>\n",
       "  </thead>\n",
       "  <tbody>\n",
       "    <tr>\n",
       "      <th>243</th>\n",
       "      <td>489</td>\n",
       "      <td>Saint-Francois</td>\n",
       "      <td>FR</td>\n",
       "      <td>78.24</td>\n",
       "      <td>scattered clouds</td>\n",
       "      <td>46.4154</td>\n",
       "      <td>3.9054</td>\n",
       "      <td>Manoir Du Bonheur</td>\n",
       "    </tr>\n",
       "  </tbody>\n",
       "</table>\n",
       "</div>"
      ],
      "text/plain": [
       "     City_ID            City Country  Max Temp Weather Description      Lat  \\\n",
       "243      489  Saint-Francois      FR     78.24    scattered clouds  46.4154   \n",
       "\n",
       "        Lng         Hotel Name  \n",
       "243  3.9054  Manoir Du Bonheur  "
      ]
     },
     "execution_count": 16,
     "metadata": {},
     "output_type": "execute_result"
    }
   ],
   "source": [
    "# From the map above pick 4 cities and create a vacation itinerary route to travel between the four cities. \n",
    "# 5. Create DataFrames for each city by filtering the 'vacation_df' using the loc method. \n",
    "# Hint: The starting and ending city should be the same city.\n",
    "\n",
    "vacation_start = vacation_df.loc[vacation_df.City==\"Saint-Francois\"]\n",
    "vacation_end = vacation_df.loc[vacation_df.City=='Saint-Francois']\n",
    "vacation_stop1 = vacation_df.loc[vacation_df.City==\"Tulle\"]\n",
    "vacation_stop2 = vacation_df.loc[vacation_df.City==\"Royan\"] \n",
    "vacation_stop3 = vacation_df.loc[vacation_df.City==\"Ploemeur\"]\n",
    "\n"
   ]
  },
  {
   "cell_type": "code",
   "execution_count": 17,
   "metadata": {},
   "outputs": [],
   "source": [
    "# 6. Get the latitude-longitude pairs as tuples from each city DataFrame using the to_numpy function and list indexing.\n",
    "start = (vacation_start[\"Lat\"].to_numpy()[0], vacation_start[\"Lng\"].to_numpy()[0])\n",
    "end = (vacation_end[\"Lat\"].to_numpy()[0], vacation_end[\"Lng\"].to_numpy()[0])\n",
    "stop1 = (vacation_stop1[\"Lat\"].to_numpy()[0], vacation_stop1[\"Lng\"].to_numpy()[0])\n",
    "stop2 = (vacation_stop2[\"Lat\"].to_numpy()[0], vacation_stop2[\"Lng\"].to_numpy()[0])\n",
    "stop3 = (vacation_stop3[\"Lat\"].to_numpy()[0], vacation_stop3[\"Lng\"].to_numpy()[0])"
   ]
  },
  {
   "cell_type": "code",
   "execution_count": 18,
   "metadata": {
    "scrolled": true
   },
   "outputs": [
    {
     "data": {
      "application/vnd.jupyter.widget-view+json": {
       "model_id": "d2ad56ae94df4a7baeb2cd39c7c5489f",
       "version_major": 2,
       "version_minor": 0
      },
      "text/plain": [
       "Figure(layout=FigureLayout(height='420px'))"
      ]
     },
     "metadata": {},
     "output_type": "display_data"
    }
   ],
   "source": [
    "# 7. Create a direction layer map using the start and end latitude-longitude pairs,\n",
    "# and stop1, stop2, and stop3 as the waypoints. The travel_mode should be \"DRIVING\", \"BICYCLING\", or \"WALKING\".\n",
    "fig=gmaps.figure()\n",
    "france_trip=gmaps.directions_layer(start, end, waypoints=[stop1,stop2,stop3],travel_mode=\"WALKING\")\n",
    "\n",
    "fig.add_layer(france_trip)\n",
    "\n",
    "fig"
   ]
  },
  {
   "cell_type": "code",
   "execution_count": 19,
   "metadata": {},
   "outputs": [
    {
     "data": {
      "text/html": [
       "<div>\n",
       "<style scoped>\n",
       "    .dataframe tbody tr th:only-of-type {\n",
       "        vertical-align: middle;\n",
       "    }\n",
       "\n",
       "    .dataframe tbody tr th {\n",
       "        vertical-align: top;\n",
       "    }\n",
       "\n",
       "    .dataframe thead th {\n",
       "        text-align: right;\n",
       "    }\n",
       "</style>\n",
       "<table border=\"1\" class=\"dataframe\">\n",
       "  <thead>\n",
       "    <tr style=\"text-align: right;\">\n",
       "      <th></th>\n",
       "      <th>City_ID</th>\n",
       "      <th>City</th>\n",
       "      <th>Country</th>\n",
       "      <th>Max Temp</th>\n",
       "      <th>Weather Description</th>\n",
       "      <th>Lat</th>\n",
       "      <th>Lng</th>\n",
       "      <th>Hotel Name</th>\n",
       "    </tr>\n",
       "  </thead>\n",
       "  <tbody>\n",
       "    <tr>\n",
       "      <th>0</th>\n",
       "      <td>489</td>\n",
       "      <td>Saint-Francois</td>\n",
       "      <td>FR</td>\n",
       "      <td>78.24</td>\n",
       "      <td>scattered clouds</td>\n",
       "      <td>46.4154</td>\n",
       "      <td>3.9054</td>\n",
       "      <td>Manoir Du Bonheur</td>\n",
       "    </tr>\n",
       "    <tr>\n",
       "      <th>1</th>\n",
       "      <td>293</td>\n",
       "      <td>Tulle</td>\n",
       "      <td>FR</td>\n",
       "      <td>80.55</td>\n",
       "      <td>clear sky</td>\n",
       "      <td>45.3333</td>\n",
       "      <td>1.8333</td>\n",
       "      <td>Voilco Aster</td>\n",
       "    </tr>\n",
       "    <tr>\n",
       "      <th>2</th>\n",
       "      <td>186</td>\n",
       "      <td>Royan</td>\n",
       "      <td>FR</td>\n",
       "      <td>80.82</td>\n",
       "      <td>overcast clouds</td>\n",
       "      <td>45.6285</td>\n",
       "      <td>-1.0281</td>\n",
       "      <td>CERISE Royan - Le Grand Hôtel de la Plage</td>\n",
       "    </tr>\n",
       "    <tr>\n",
       "      <th>3</th>\n",
       "      <td>634</td>\n",
       "      <td>Ploemeur</td>\n",
       "      <td>FR</td>\n",
       "      <td>71.62</td>\n",
       "      <td>clear sky</td>\n",
       "      <td>47.7333</td>\n",
       "      <td>-3.4333</td>\n",
       "      <td>Best Western Plus Hotel Les Rives Du Ter</td>\n",
       "    </tr>\n",
       "  </tbody>\n",
       "</table>\n",
       "</div>"
      ],
      "text/plain": [
       "   City_ID            City Country  Max Temp Weather Description      Lat  \\\n",
       "0      489  Saint-Francois      FR     78.24    scattered clouds  46.4154   \n",
       "1      293           Tulle      FR     80.55           clear sky  45.3333   \n",
       "2      186           Royan      FR     80.82     overcast clouds  45.6285   \n",
       "3      634        Ploemeur      FR     71.62           clear sky  47.7333   \n",
       "\n",
       "      Lng                                 Hotel Name  \n",
       "0  3.9054                          Manoir Du Bonheur  \n",
       "1  1.8333                               Voilco Aster  \n",
       "2 -1.0281  CERISE Royan - Le Grand Hôtel de la Plage  \n",
       "3 -3.4333   Best Western Plus Hotel Les Rives Du Ter  "
      ]
     },
     "execution_count": 19,
     "metadata": {},
     "output_type": "execute_result"
    }
   ],
   "source": [
    "# 8. To create a marker layer map between the four cities.\n",
    "#  Combine the four city DataFrames into one DataFrame using the concat() function.\n",
    "itinerary_df = pd.concat([vacation_start, vacation_stop1, vacation_stop2, vacation_stop3],ignore_index=True)\n",
    "itinerary_df"
   ]
  },
  {
   "cell_type": "code",
   "execution_count": 21,
   "metadata": {},
   "outputs": [],
   "source": [
    "# 9 Using the template add city name, the country code, the weather description and maximum temperature for the city. \n",
    "info_box_template = \"\"\"<dl>\n",
    "<dt>Hotel Name</dt><dd>{Hotel Name}</dd>\n",
    "<dt>City</dt><dd>{City}</dd>\n",
    "<dt>Country</dt><dd>{Country}</dd>\n",
    "<dt>Current Weather</dt><dd>{Weather Description} and {Max Temp} °F</dd>\n",
    "</dl>\n",
    "\n",
    "\"\"\"\n",
    "\n",
    "# 10a Get the data from each row and add it to the formatting template and store the data in a list.\n",
    "hotel_info = [info_box_template.format(**row) for index, row in itinerary_df.iterrows()]\n",
    "\n",
    "# 10b. Get the latitude and longitude from each row and store in a new DataFrame.\n",
    "locations = itinerary_df[[\"Lat\", \"Lng\"]]"
   ]
  },
  {
   "cell_type": "code",
   "execution_count": 22,
   "metadata": {},
   "outputs": [
    {
     "data": {
      "application/vnd.jupyter.widget-view+json": {
       "model_id": "0323c62d9c844b859aa4a5aeb206b575",
       "version_major": 2,
       "version_minor": 0
      },
      "text/plain": [
       "Figure(layout=FigureLayout(height='420px'))"
      ]
     },
     "metadata": {},
     "output_type": "display_data"
    }
   ],
   "source": [
    "# 11a. Add a marker layer for each city to the map.\n",
    "fig = gmaps.figure()\n",
    "marker_layer = gmaps.marker_layer(locations, info_box_content=hotel_info)\n",
    "fig.add_layer(marker_layer)\n",
    "\n",
    "# 11b. Display the figure\n",
    "fig"
   ]
  },
  {
   "cell_type": "code",
   "execution_count": null,
   "metadata": {},
   "outputs": [],
   "source": []
  }
 ],
 "metadata": {
  "kernelspec": {
   "display_name": "PythonData",
   "language": "python",
   "name": "pythondata"
  },
  "language_info": {
   "codemirror_mode": {
    "name": "ipython",
    "version": 3
   },
   "file_extension": ".py",
   "mimetype": "text/x-python",
   "name": "python",
   "nbconvert_exporter": "python",
   "pygments_lexer": "ipython3",
   "version": "3.9.12"
  },
  "latex_envs": {
   "LaTeX_envs_menu_present": true,
   "autoclose": false,
   "autocomplete": true,
   "bibliofile": "biblio.bib",
   "cite_by": "apalike",
   "current_citInitial": 1,
   "eqLabelWithNumbers": true,
   "eqNumInitial": 1,
   "hotkeys": {
    "equation": "Ctrl-E",
    "itemize": "Ctrl-I"
   },
   "labels_anchors": false,
   "latex_user_defs": false,
   "report_style_numbering": false,
   "user_envs_cfg": false
  }
 },
 "nbformat": 4,
 "nbformat_minor": 2
}
